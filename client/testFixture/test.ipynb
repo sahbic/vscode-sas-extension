{
 "cells": [
  {
   "cell_type": "markdown",
   "id": "26fe0d41-b4da-4902-845a-98e5c0c8e72a",
   "metadata": {},
   "source": [
    "# Python test"
   ]
  },
  {
   "cell_type": "code",
   "execution_count": null,
   "id": "78855cba-1ec7-4e26-be74-23665ca2f4ee",
   "metadata": {},
   "outputs": [],
   "source": [
    "import pandas as pd\n",
    "\n",
    "df = pd.DataFrame({'col1': [1, 2], 'col2': [3, 4]})\n",
    "df.head()"
   ]
  },
  {
   "cell_type": "code",
   "execution_count": null,
   "id": "7906e55d-829b-41da-8536-5dba90d2dddd",
   "metadata": {},
   "outputs": [],
   "source": []
  },
  {
   "cell_type": "code",
   "execution_count": null,
   "id": "483eda5c-6fb4-4193-99c1-7ea7ab9ad338",
   "metadata": {},
   "outputs": [],
   "source": [
    "df.info()"
   ]
  },
  {
   "cell_type": "code",
   "execution_count": null,
   "id": "3f652f5e-c531-4e9d-9349-9ae1f52773ad",
   "metadata": {},
   "outputs": [],
   "source": []
  }
 ],
 "metadata": {
  "kernelspec": {
   "display_name": "Python 3 (ipykernel)",
   "language": "python",
   "name": "python3"
  },
  "language_info": {
   "codemirror_mode": {
    "name": "ipython",
    "version": 3
   },
   "file_extension": ".py",
   "mimetype": "text/x-python",
   "name": "python",
   "nbconvert_exporter": "python",
   "pygments_lexer": "ipython3",
   "version": "3.9.7"
  }
 },
 "nbformat": 4,
 "nbformat_minor": 5
}
